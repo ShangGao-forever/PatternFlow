{
 "cells": [
  {
   "cell_type": "code",
   "execution_count": 1,
   "id": "f8192a8c",
   "metadata": {},
   "outputs": [],
   "source": [
    "import torch\n",
    "import torch.nn as nn\n",
    "import math"
   ]
  },
  {
   "cell_type": "code",
   "execution_count": 2,
   "id": "6fdc9403",
   "metadata": {},
   "outputs": [],
   "source": [
    "\"\"\"\n",
    "ScaleW:\n",
    "\"\"\"\n",
    "class ScaleW:\n",
    "    '''\n",
    "    Constructor: name - name of attribute to be scaled\n",
    "    '''\n",
    "    def __init__(self, name):\n",
    "        self.name = name\n",
    "    \n",
    "    def scale(self, module):\n",
    "        weight = getattr(module, self.name + '_orig')\n",
    "        fan_in = weight.data.size(1) * weight.data[0][0].numel()\n",
    "        \n",
    "        return weight * math.sqrt(2 / fan_in)\n",
    "    \n",
    "    @staticmethod\n",
    "    def apply(module, name):\n",
    "        '''\n",
    "        Apply runtime scaling to specific module\n",
    "        '''\n",
    "        hook = ScaleW(name)\n",
    "        weight = getattr(module, name)\n",
    "        module.register_parameter(name + '_orig', nn.Parameter(weight.data))\n",
    "        del module._parameters[name]\n",
    "        module.register_forward_pre_hook(hook)\n",
    "    \n",
    "    def __call__(self, module, whatever):\n",
    "        weight = self.scale(module)\n",
    "        setattr(module, self.name, weight)\n"
   ]
  },
  {
   "cell_type": "code",
   "execution_count": 3,
   "id": "55ad722b",
   "metadata": {},
   "outputs": [],
   "source": [
    "# Quick apply for scaled weight\n",
    "def quick_scale(module, name='weight'):\n",
    "    ScaleW.apply(module, name)\n",
    "    return module"
   ]
  },
  {
   "cell_type": "code",
   "execution_count": 4,
   "id": "43ae49e9",
   "metadata": {},
   "outputs": [],
   "source": [
    "class SLinear(nn.Module):\n",
    "    def __init__(self, dim_in, dim_out):\n",
    "        super().__init__()\n",
    "\n",
    "        linear = nn.Linear(dim_in, dim_out)\n",
    "        linear.weight.data.normal_()\n",
    "        linear.bias.data.zero_()\n",
    "        \n",
    "        self.linear = quick_scale(linear)\n",
    "\n",
    "    def forward(self, x):\n",
    "        return self.linear(x)\n",
    "\n",
    "# Uniformly set the hyperparameters of Conv2d\n",
    "# \"We initialize all weights of the convolutional, fully-connected, and affine transform layers using N(0, 1)\"\n",
    "# 5/13: Apply scaled weights\n",
    "class SConv2d(nn.Module):\n",
    "    def __init__(self, *args, **kwargs):\n",
    "        super().__init__()\n",
    "\n",
    "        conv = nn.Conv2d(*args, **kwargs)\n",
    "        conv.weight.data.normal_()\n",
    "        conv.bias.data.zero_()\n",
    "        \n",
    "        self.conv = quick_scale(conv)\n",
    "\n",
    "    def forward(self, x):\n",
    "        return self.conv(x)"
   ]
  },
  {
   "cell_type": "code",
   "execution_count": null,
   "id": "e6c1416b",
   "metadata": {},
   "outputs": [],
   "source": []
  }
 ],
 "metadata": {
  "kernelspec": {
   "display_name": "Python 3",
   "language": "python",
   "name": "python3"
  },
  "language_info": {
   "codemirror_mode": {
    "name": "ipython",
    "version": 3
   },
   "file_extension": ".py",
   "mimetype": "text/x-python",
   "name": "python",
   "nbconvert_exporter": "python",
   "pygments_lexer": "ipython3",
   "version": "3.8.8"
  }
 },
 "nbformat": 4,
 "nbformat_minor": 5
}
