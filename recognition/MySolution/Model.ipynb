{
 "cells": [
  {
   "cell_type": "code",
   "execution_count": 1,
   "id": "115384d6",
   "metadata": {},
   "outputs": [],
   "source": [
    "import torch\n",
    "import torch.nn as nn\n",
    "import math"
   ]
  },
  {
   "cell_type": "code",
   "execution_count": 2,
   "id": "763b1098",
   "metadata": {},
   "outputs": [],
   "source": [
    "\"\"\"\n",
    "ScaleW:\n",
    "\"\"\"\n",
    "class ScaleW:\n",
    "    '''\n",
    "    Constructor: name - name of attribute to be scaled\n",
    "    '''\n",
    "    def __init__(self, name):\n",
    "        self.name = name\n",
    "    \n",
    "    def scale(self, module):\n",
    "        weight = getattr(module, self.name + '_orig')\n",
    "        fan_in = weight.data.size(1) * weight.data[0][0].numel()\n",
    "        \n",
    "        return weight * math.sqrt(2 / fan_in)\n",
    "    \n",
    "    @staticmethod\n",
    "    def apply(module, name):\n",
    "        '''\n",
    "        Apply runtime scaling to specific module\n",
    "        '''\n",
    "        hook = ScaleW(name)\n",
    "        weight = getattr(module, name)\n",
    "        module.register_parameter(name + '_orig', nn.Parameter(weight.data))\n",
    "        del module._parameters[name]\n",
    "        module.register_forward_pre_hook(hook)\n",
    "    \n",
    "    def __call__(self, module, whatever):\n",
    "        weight = self.scale(module)\n",
    "        setattr(module, self.name, weight)\n"
   ]
  },
  {
   "cell_type": "code",
   "execution_count": 3,
   "id": "d3f58727",
   "metadata": {},
   "outputs": [],
   "source": [
    "# Quick apply for scaled weight\n",
    "def quick_scale(module, name='weight'):\n",
    "    ScaleW.apply(module, name)\n",
    "    return module"
   ]
  },
  {
   "cell_type": "code",
   "execution_count": null,
   "id": "9fc3978f",
   "metadata": {},
   "outputs": [],
   "source": []
  }
 ],
 "metadata": {
  "kernelspec": {
   "display_name": "Python 3",
   "language": "python",
   "name": "python3"
  },
  "language_info": {
   "codemirror_mode": {
    "name": "ipython",
    "version": 3
   },
   "file_extension": ".py",
   "mimetype": "text/x-python",
   "name": "python",
   "nbconvert_exporter": "python",
   "pygments_lexer": "ipython3",
   "version": "3.8.8"
  }
 },
 "nbformat": 4,
 "nbformat_minor": 5
}
