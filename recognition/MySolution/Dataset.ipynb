{
 "cells": [
  {
   "cell_type": "code",
   "execution_count": null,
   "id": "2df479de",
   "metadata": {},
   "outputs": [],
   "source": [
    "# Import necessary modules\n",
    "import torch\n",
    "from tqdm import tqdm\n",
    "import torchvision\n",
    "import torchvision.transforms as transforms\n",
    "from PIL import Image\n",
    "\n",
    "from torch.utils.data import DataLoader\n",
    "from torchvision import datasets, transforms, utils\n",
    "\n",
    "image_folder_path = '/content/drive/MyDrive/Dataset/keras_png_slices_data'\n",
    "\n",
    "def gain_sample(dataset, batch_size, image_size=4):\n",
    "    transform = transforms.Compose([\n",
    "            transforms.Resize(image_size),          # Resize to the same size\n",
    "            transforms.CenterCrop(image_size),      # Crop to get square area\n",
    "            transforms.RandomHorizontalFlip(),      # Increase number of samples\n",
    "            transforms.ToTensor(),            \n",
    "            transforms.Normalize((0.5, 0.5, 0.5),\n",
    "                                 (0.5, 0.5, 0.5))])\n",
    "\n",
    "    dataset.transform = transform\n",
    "    loader = DataLoader(dataset, shuffle=True, batch_size=batch_size, num_workers=4)\n",
    "\n",
    "    return loader\n",
    "\n",
    "dataset        = datasets.ImageFolder(image_folder_path)\n",
    "origin_loader  = gain_sample(dataset, 240, 64)\n",
    "data_loader    = iter(origin_loader)\n",
    "\n",
    "for i in range(10):\n",
    "    real_image, label = next(data_loader)\n",
    "    torchvision.utils.save_image(real_image, f'./previews/preview{i}.png', nrow=24, padding=2, normalize=True, range=(-1,1))"
   ]
  }
 ],
 "metadata": {
  "kernelspec": {
   "display_name": "Python 3",
   "language": "python",
   "name": "python3"
  },
  "language_info": {
   "codemirror_mode": {
    "name": "ipython",
    "version": 3
   },
   "file_extension": ".py",
   "mimetype": "text/x-python",
   "name": "python",
   "nbconvert_exporter": "python",
   "pygments_lexer": "ipython3",
   "version": "3.8.8"
  }
 },
 "nbformat": 4,
 "nbformat_minor": 5
}
